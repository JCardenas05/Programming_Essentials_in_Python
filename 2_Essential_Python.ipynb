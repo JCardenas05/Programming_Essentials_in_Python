{
  "nbformat": 4,
  "nbformat_minor": 0,
  "metadata": {
    "colab": {
      "private_outputs": true,
      "provenance": [],
      "authorship_tag": "ABX9TyN5bnr6DDoLAYsfw4xk+94D",
      "include_colab_link": true
    },
    "kernelspec": {
      "name": "python3",
      "display_name": "Python 3"
    },
    "language_info": {
      "name": "python"
    }
  },
  "cells": [
    {
      "cell_type": "markdown",
      "metadata": {
        "id": "view-in-github",
        "colab_type": "text"
      },
      "source": [
        "<a href=\"https://colab.research.google.com/github/JCardenas05/Programming_Essentials_in_Python/blob/main/2_Essential_Python.ipynb\" target=\"_parent\"><img src=\"https://colab.research.google.com/assets/colab-badge.svg\" alt=\"Open In Colab\"/></a>"
      ]
    },
    {
      "cell_type": "markdown",
      "source": [
        "## 1) Calculadora\n",
        "Crea una calculadora que pida al usuario los siguentes datos:\n",
        "- Opercion matematica: ej \"+\", \"-\", \"*\", \"/\"\n",
        "- Numero 1\n",
        "- Numero 2\n",
        "\n",
        "Apartir de estas entradas mostrar el resultado en la consola"
      ],
      "metadata": {
        "id": "P9t0phJkyK2Y"
      }
    },
    {
      "cell_type": "code",
      "source": [],
      "metadata": {
        "id": "Xga-jmTYymS-"
      },
      "execution_count": null,
      "outputs": []
    },
    {
      "cell_type": "markdown",
      "source": [
        "## 2) Conversor °C a °F\n",
        "   \n",
        "- $°F=(°C×59​)+32$\n",
        "\n",
        "- $°C=(°F−32)×95​$"
      ],
      "metadata": {
        "id": "7D1HyNQJzEUg"
      }
    },
    {
      "cell_type": "code",
      "source": [],
      "metadata": {
        "id": "HN4spldlzfh8"
      },
      "execution_count": null,
      "outputs": []
    },
    {
      "cell_type": "markdown",
      "source": [
        "## 3) Numeros pares\n",
        "Pedir un numero al usuario y verificar si este es par o no"
      ],
      "metadata": {
        "id": "hFvnHVSczq-C"
      }
    },
    {
      "cell_type": "code",
      "source": [],
      "metadata": {
        "id": "rlmdO561zqo5"
      },
      "execution_count": null,
      "outputs": []
    }
  ]
}