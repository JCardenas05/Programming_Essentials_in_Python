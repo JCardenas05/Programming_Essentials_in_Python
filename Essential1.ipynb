{
  "nbformat": 4,
  "nbformat_minor": 0,
  "metadata": {
    "colab": {
      "private_outputs": true,
      "provenance": []
    },
    "kernelspec": {
      "name": "python3",
      "display_name": "Python 3"
    },
    "language_info": {
      "name": "python"
    }
  },
  "cells": [
    {
      "cell_type": "markdown",
      "source": [
        "1) Calcular el area de un triangulo dada su base y altura\n",
        "\n",
        "$$Area=\\frac{base \\cdot altura}{2} $$"
      ],
      "metadata": {
        "id": "-2XcP7MuJBdh"
      }
    },
    {
      "cell_type": "code",
      "source": [],
      "metadata": {
        "id": "stQq-okaJhdr"
      },
      "execution_count": null,
      "outputs": []
    },
    {
      "cell_type": "markdown",
      "source": [
        "2) Promedio de 5 notas de un estudiante\n",
        "\n",
        "$$prom=\\frac{n1+n2+n3+n4+n5}{5}$$"
      ],
      "metadata": {
        "id": "uXEq7UwaJiH3"
      }
    },
    {
      "cell_type": "code",
      "execution_count": null,
      "metadata": {
        "id": "JB_VxwkyI5wv"
      },
      "outputs": [],
      "source": []
    },
    {
      "cell_type": "markdown",
      "source": [
        "3) Evaluar la siguente formula: con x=1,4,0\n",
        "$$y=\\frac{x^2+x^3+1}{2^x-1}$$\n"
      ],
      "metadata": {
        "id": "ELpV2-8YJ1Dy"
      }
    },
    {
      "cell_type": "code",
      "source": [
        "\n"
      ],
      "metadata": {
        "id": "50PVy3kIKTL4"
      },
      "execution_count": null,
      "outputs": []
    }
  ]
}