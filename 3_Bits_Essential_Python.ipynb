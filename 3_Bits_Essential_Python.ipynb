{
  "cells": [
    {
      "cell_type": "markdown",
      "metadata": {
        "colab_type": "text",
        "id": "view-in-github"
      },
      "source": [
        "<a href=\"https://colab.research.google.com/github/JCardenas05/Programming_Essentials_in_Python/blob/main/3_Bits_Essential_Python.ipynb\" target=\"_parent\"><img src=\"https://colab.research.google.com/assets/colab-badge.svg\" alt=\"Open In Colab\"/></a>"
      ]
    },
    {
      "cell_type": "markdown",
      "metadata": {
        "id": "dE7THfpSR13j"
      },
      "source": [
        "## Ejercicio: Combinación de Lecturas de Sensores en un Dato de 8 bits\n",
        "\n",
        "En un sistema, se tienen dos sensores:\n",
        "\n",
        "1. **Sensor de Humedad**: Entrega una lectura de 4 bits, donde el valor varía de 0 (0% humedad) a 15 (100% humedad).\n",
        "2. **Sensor de Temperatura**: Proporciona una lectura de 4 bits, y los valores van de 0 (temperatura mínima) a 15 (temperatura máxima).\n",
        "\n",
        "El objetivo es escribir una función que reciba dos números enteros correspondientes a las lecturas de los sensores de humedad y temperatura. La función debe combinar estas dos lecturas en un único dato de 8 bits de la siguiente manera:\n",
        "\n",
        "- Los primeros 4 bits (bits más significativos) corresponden al sensor de humedad.\n",
        "- Los últimos 4 bits (bits menos significativos) corresponden al sensor de temperatura.\n",
        "\n",
        "## Pasos\n",
        "\n",
        "- Valida que las entradas estén en el rango de 0 a 15. Si no, retorna un mensaje de error.\n",
        "- Combina las lecturas en un dato de 8 bits y retorna este valor como un entero.\n",
        "\n",
        "## Ejemplo de Uso\n",
        "\n",
        "```python\n",
        "dato_combinado = combinar_lecturas(9, 4)\n",
        "print(dato_combinado) # Debería imprimir: 148, que en binario es 10010100\n"
      ]
    },
    {
      "cell_type": "code",
      "execution_count": null,
      "metadata": {
        "id": "R4sWTiDqRrjd"
      },
      "outputs": [],
      "source": []
    },
    {
      "cell_type": "markdown",
      "metadata": {
        "id": "gF0W4tHfStLA"
      },
      "source": [
        "## Ejercicio 2: Extracción de Lecturas de Sensores del Dato de 8 bits\n",
        "\n",
        "Después de haber combinado con éxito las lecturas de los sensores dehumedad y temperatura en un único dato de 8 bits, el desafío ahora es realizar la operación inversa. Se requiere escribir una función que pueda tomar este dato de 8 bits y extraer las lecturas originales de los dos sensores utilizando enmascaramiento y operaciones de bits.\n",
        "\n",
        "### Pasos\n",
        "\n",
        "- Utilizar operaciones de enmascaramiento para separar las lecturas de humedad y temperatura.\n",
        "- Retornar las lecturas originales como dos valores enteros separados.\n",
        "\n",
        "### Consideraciones\n",
        "\n",
        "- Utilizar operadores de bits como AND (`&`) y desplazamiento a la derecha (`>>`) para aislar cada conjunto de 4 bits.\n",
        "- Definir las máscaras de bits adecuadas para extraer los valores correctos.\n",
        "\n",
        "### Ejemplo de Implementación\n",
        "\n",
        "```python\n",
        "# Definir las máscaras para humedad y temperatura\n",
        "# ...\n",
        "    \n",
        "# Aplicar las máscaras y operaciones de desplazamiento para extraer las lecturas\n",
        "# ...\n",
        "    \n",
        "# Mostrar el la consola las lecturas de humedad y temperatura originales\n",
        "# ...\n",
        "\n",
        "\n"
      ]
    },
    {
      "cell_type": "markdown",
      "metadata": {
        "id": "nB_87ubHTU9i"
      },
      "source": [
        "## Operaciones matemáticas con desplazamientos de bits\n",
        "\n",
        "Multiplicación por Potencias de Dos: Desplazar los bits de un número hacia la izquierda es equivalente a multiplicarlo por potencias de dos. Por ejemplo, desplazar un número un bit a la izquierda es lo mismo que multiplicarlo por 2, dos bits equivalen a multiplicar por 4, y así sucesivamente. Por ejemplo, 5<<1=10 y 5<<2=20.\n",
        "\n",
        "``` python\n",
        "    x=5\n",
        "    print(x<<1)\n",
        "    print(x<<2)\n",
        "\n",
        "```\n",
        "\n",
        "### Dividir por 2\n",
        "\n",
        "División por Potencias de Dos: Similar a la multiplicación, desplazar los bits hacia la derecha divide el número por potencias de dos. Por ejemplo, desplazar un número un bit a la derecha lo divide por 2, dos bits lo dividen por 4, etc. Es importante notar que este método realiza una división entera, descartando cualquier residuo. Por ejemplo, 20>>1=10 y 20>>2=5.\n",
        "\n",
        "``` python\n",
        "    x=5\n",
        "    print(x>>1)\n",
        "    print(x>>2)\n",
        "\n",
        "```"
      ]
    }
  ],
  "metadata": {
    "colab": {
      "authorship_tag": "ABX9TyNvLwhmKxsQ4O6bNu8UgX4A",
      "include_colab_link": true,
      "private_outputs": true,
      "provenance": []
    },
    "kernelspec": {
      "display_name": "Python 3",
      "name": "python3"
    },
    "language_info": {
      "codemirror_mode": {
        "name": "ipython",
        "version": 3
      },
      "file_extension": ".py",
      "mimetype": "text/x-python",
      "name": "python",
      "nbconvert_exporter": "python",
      "pygments_lexer": "ipython3",
      "version": "3.10.12"
    }
  },
  "nbformat": 4,
  "nbformat_minor": 0
}
