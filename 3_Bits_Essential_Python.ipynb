{
  "nbformat": 4,
  "nbformat_minor": 0,
  "metadata": {
    "colab": {
      "private_outputs": true,
      "provenance": [],
      "authorship_tag": "ABX9TyNvLwhmKxsQ4O6bNu8UgX4A",
      "include_colab_link": true
    },
    "kernelspec": {
      "name": "python3",
      "display_name": "Python 3"
    },
    "language_info": {
      "name": "python"
    }
  },
  "cells": [
    {
      "cell_type": "markdown",
      "metadata": {
        "id": "view-in-github",
        "colab_type": "text"
      },
      "source": [
        "<a href=\"https://colab.research.google.com/github/JCardenas05/Programming_Essentials_in_Python/blob/main/3_Bits_Essential_Python.ipynb\" target=\"_parent\"><img src=\"https://colab.research.google.com/assets/colab-badge.svg\" alt=\"Open In Colab\"/></a>"
      ]
    },
    {
      "cell_type": "markdown",
      "source": [
        "# Ejercicio: Combinación de Lecturas de Sensores en un Dato de 8 bits\n",
        "\n",
        "En un sistema, se tienen dos sensores:\n",
        "\n",
        "1. **Sensor de Humedad**: Entrega una lectura de 4 bits, donde el valor varía de 0 (0% humedad) a 15 (100% humedad).\n",
        "2. **Sensor de Temperatura**: Proporciona una lectura de 4 bits, y los valores van de 0 (temperatura mínima) a 15 (temperatura máxima).\n",
        "\n",
        "El objetivo es escribir una función que reciba dos números enteros correspondientes a las lecturas de los sensores de humedad y temperatura. La función debe combinar estas dos lecturas en un único dato de 8 bits de la siguiente manera:\n",
        "\n",
        "- Los primeros 4 bits (bits más significativos) corresponden al sensor de humedad.\n",
        "- Los últimos 4 bits (bits menos significativos) corresponden al sensor de temperatura.\n",
        "\n",
        "## Pasos\n",
        "\n",
        "- Define una función llamada `combinar_lecturas(humedad, temperatura)`.\n",
        "- Valida que las entradas estén en el rango de 0 a 15. Si no, retorna un mensaje de error.\n",
        "- Combina las lecturas en un dato de 8 bits y retorna este valor como un entero.\n",
        "\n",
        "## Ejemplo de Uso\n",
        "\n",
        "```python\n",
        "dato_combinado = combinar_lecturas(9, 4)\n",
        "print(dato_combinado) # Debería imprimir: 148, que en binario es 10010100\n"
      ],
      "metadata": {
        "id": "dE7THfpSR13j"
      }
    },
    {
      "cell_type": "code",
      "execution_count": null,
      "metadata": {
        "id": "R4sWTiDqRrjd"
      },
      "outputs": [],
      "source": []
    },
    {
      "cell_type": "markdown",
      "source": [
        "## Ejercicio 2: Extracción de Lecturas de Sensores del Dato de 8 bits\n",
        "\n",
        "Después de haber combinado con éxito las lecturas de los sensores dehumedad y temperatura en un único dato de 8 bits, el desafío ahora es realizar la operación inversa. Se requiere escribir una función que pueda tomar este dato de 8 bits y extraer las lecturas originales de los dos sensores utilizando enmascaramiento y operaciones de bits.\n",
        "\n",
        "### Pasos\n",
        "\n",
        "- Implementar una función llamada `extraer_lecturas(dato_combinado)` que tome como entrada el dato de 8 bits combinado.\n",
        "- Utilizar operaciones de enmascaramiento para separar las lecturas de humedad y temperatura.\n",
        "- Retornar las lecturas originales como dos valores enteros separados.\n",
        "\n",
        "### Consideraciones\n",
        "\n",
        "- Utilizar operadores de bits como AND (`&`) y desplazamiento a la derecha (`>>`) para aislar cada conjunto de 4 bits.\n",
        "- Definir las máscaras de bits adecuadas para extraer los valores correctos.\n",
        "\n",
        "### Ejemplo de Implementación\n",
        "\n",
        "```python\n",
        "def extraer_lecturas(dato_combinado):\n",
        "    # Definir las máscaras para humedad y temperatura\n",
        "    # ...\n",
        "    \n",
        "    # Aplicar las máscaras y operaciones de desplazamiento para extraer las lecturas\n",
        "    # ...\n",
        "    \n",
        "    # Retornar las lecturas de humedad y temperatura\n",
        "    # ...\n",
        "\n",
        "# Ejemplo de uso con un dato de 8 bits previamente combinado\n",
        "humedad, temperatura = extraer_lecturas(dato_combinado)\n",
        "print(f\"Humedad: {humedad}, Temperatura: {temperatura}\")\n"
      ],
      "metadata": {
        "id": "gF0W4tHfStLA"
      }
    },
    {
      "cell_type": "code",
      "source": [],
      "metadata": {
        "id": "nB_87ubHTU9i"
      },
      "execution_count": null,
      "outputs": []
    }
  ]
}