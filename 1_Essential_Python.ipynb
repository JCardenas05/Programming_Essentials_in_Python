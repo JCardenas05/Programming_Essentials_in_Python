{
  "cells": [
    {
      "cell_type": "markdown",
      "metadata": {
        "colab_type": "text",
        "id": "view-in-github"
      },
      "source": [
        "<a href=\"https://colab.research.google.com/github/JCardenas05/Programming_Essentialsin_in_Python/blob/main/1_Essential_Python.ipynb\" target=\"_parent\"><img src=\"https://colab.research.google.com/assets/colab-badge.svg\" alt=\"Open In Colab\"/></a>"
      ]
    },
    {
      "cell_type": "markdown",
      "metadata": {
        "id": "-2XcP7MuJBdh"
      },
      "source": [
        "1) Calcular el area de un triangulo dada su base y altura\n",
        "\n",
        "$$Area=\\frac{base \\cdot altura}{2} $$"
      ]
    },
    {
      "cell_type": "code",
      "execution_count": 1,
      "metadata": {
        "id": "stQq-okaJhdr"
      },
      "outputs": [],
      "source": [
        "base = 2\n",
        "altura = 1"
      ]
    },
    {
      "cell_type": "markdown",
      "metadata": {
        "id": "uXEq7UwaJiH3"
      },
      "source": [
        "2) Promedio de 5 notas de un estudiante\n",
        "\n",
        "$$prom=\\frac{n1+n2+n3+n4+n5}{5}$$"
      ]
    },
    {
      "cell_type": "code",
      "execution_count": null,
      "metadata": {
        "id": "JB_VxwkyI5wv"
      },
      "outputs": [],
      "source": []
    },
    {
      "cell_type": "markdown",
      "metadata": {
        "id": "ELpV2-8YJ1Dy"
      },
      "source": [
        "3) Evaluar la siguente formula: con x=1,4,0\n",
        "$$y=\\frac{x^2+x^3+1}{2^x-1}$$\n"
      ]
    },
    {
      "cell_type": "code",
      "execution_count": null,
      "metadata": {
        "id": "50PVy3kIKTL4"
      },
      "outputs": [],
      "source": [
        "\n"
      ]
    }
  ],
  "metadata": {
    "colab": {
      "authorship_tag": "ABX9TyPy2W6VqXPkgGUstoDv+U4t",
      "include_colab_link": true,
      "private_outputs": true,
      "provenance": []
    },
    "kernelspec": {
      "display_name": "Python 3",
      "name": "python3"
    },
    "language_info": {
      "codemirror_mode": {
        "name": "ipython",
        "version": 3
      },
      "file_extension": ".py",
      "mimetype": "text/x-python",
      "name": "python",
      "nbconvert_exporter": "python",
      "pygments_lexer": "ipython3",
      "version": "3.10.12"
    }
  },
  "nbformat": 4,
  "nbformat_minor": 0
}
